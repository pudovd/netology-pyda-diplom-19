{
 "cells": [
  {
   "cell_type": "markdown",
   "id": "4c514668",
   "metadata": {},
   "source": [
    "## Задание к итоговой работе по курсу \"Python для анализа данных\""
   ]
  },
  {
   "cell_type": "markdown",
   "id": "5954d44a",
   "metadata": {},
   "source": [
    "### Задание\n",
    "\n",
    "Дан файл `HR.csv` с данными по опросу уровня удовлетворенности сотрудниками работой.\n",
    "\n",
    "Признаки:\n",
    "1. `satisfaction_level` - Уровень удовлетворенности работой\n",
    "2. `Last_evaluation` - Время с момента последней оценки в годах\n",
    "3. `number_projects` - Количество проектов, выполненных за время работы\n",
    "4. `average_monthly_hours` - Среднее количество часов на рабочем месте в месяц\n",
    "5. `time_spend_company` - Стаж работы в компании в годах\n",
    "6. `work_accident` - Происходили ли несчастные случаи на рабочем месте с сотрудником\n",
    "7. `left` - уволился ли сотрудник\n",
    "8. `promotion_last_5years` - повышался ли сотрудник за последние пять лет\n",
    "9. `department` - отдел в котором работает сотрудник\n",
    "10. `salary` - относительный уровень зарплаты"
   ]
  },
  {
   "cell_type": "markdown",
   "id": "e33472be",
   "metadata": {},
   "source": [
    "#### Требуется выполнить следующее задание:\n",
    "\n",
    "| # | Задание | Баллы |\n",
    "| --- | :--- | :---: |\n",
    "| <a href='#task1'>1</a> | Загрузите файл HR.csv в pandas dataframe | 5 |\n",
    "| <a href='#task2'>2</a> | Рассчитайте основные статистики для переменных(среднее,медиана,мода,мин/макс,сред.отклонение). | 10 |\n",
    "| <a href='#task3'>3</a> | Рассчитайте и визуализировать корреляционную матрицу для количественных переменных.<br>Определите две самые скоррелированные и две наименее скоррелированные переменные. | 10 | \n",
    "| <a href='#task4'>4</a> | Рассчитайте сколько сотрудников работает в каждом департаменте. | 5 |\n",
    "| <a href='#task5'>5</a> | Показать распределение сотрудников по зарплатам. | 5 |\n",
    "| <a href='#task6'>6</a> | Показать распределение сотрудников по зарплатам в каждом департаменте по отдельности | 5 |\n",
    "| <a href='#task7'>7</a> | Проверить гипотезу, что сотрудники с высоким окладом проводят на работе больше времени, чем сотрудники с низким окладом | 10 |\n",
    "| <a href='#task8'>8</a> | Рассчитать следующие показатели среди уволившихся и неуволившихся сотрудников (по отдельности): <br>  * Доля сотрудников с повышением за последние 5 лет<br>  * Средняя степень удовлетворенности<br>  * Среднее количество проектов | 10 |\n",
    "| <a href='#task9'>9</a> | Разделить данные на тестовую и обучающую выборки. Построить модель LDA, предсказывающую уволился лисотрудник на основе имеющихся факторов (кроме `department` и `salary`) Оценить качество модели на тестовой выборки | 20 |\n",
    "| <a href='#task10'>10</a> | Загрузить jupyter notebook с решение на github и прислать ссылку | 5 |\n"
   ]
  },
  {
   "cell_type": "markdown",
   "id": "06c12b20",
   "metadata": {},
   "source": [
    "<a id='task1'></a>\n",
    "### Задание 1\n",
    "Загрузите файл HR.csv в pandas dataframe"
   ]
  },
  {
   "cell_type": "code",
   "execution_count": 1,
   "id": "f6f5593d",
   "metadata": {},
   "outputs": [
    {
     "data": {
      "text/html": [
       "<div>\n",
       "<style scoped>\n",
       "    .dataframe tbody tr th:only-of-type {\n",
       "        vertical-align: middle;\n",
       "    }\n",
       "\n",
       "    .dataframe tbody tr th {\n",
       "        vertical-align: top;\n",
       "    }\n",
       "\n",
       "    .dataframe thead th {\n",
       "        text-align: right;\n",
       "    }\n",
       "</style>\n",
       "<table border=\"1\" class=\"dataframe\">\n",
       "  <thead>\n",
       "    <tr style=\"text-align: right;\">\n",
       "      <th></th>\n",
       "      <th>satisfaction_level</th>\n",
       "      <th>last_evaluation</th>\n",
       "      <th>number_project</th>\n",
       "      <th>average_montly_hours</th>\n",
       "      <th>time_spend_company</th>\n",
       "      <th>Work_accident</th>\n",
       "      <th>left</th>\n",
       "      <th>promotion_last_5years</th>\n",
       "      <th>department</th>\n",
       "      <th>salary</th>\n",
       "    </tr>\n",
       "  </thead>\n",
       "  <tbody>\n",
       "    <tr>\n",
       "      <th>0</th>\n",
       "      <td>0.38</td>\n",
       "      <td>0.53</td>\n",
       "      <td>2</td>\n",
       "      <td>157</td>\n",
       "      <td>3</td>\n",
       "      <td>0</td>\n",
       "      <td>1</td>\n",
       "      <td>0</td>\n",
       "      <td>sales</td>\n",
       "      <td>low</td>\n",
       "    </tr>\n",
       "    <tr>\n",
       "      <th>1</th>\n",
       "      <td>0.80</td>\n",
       "      <td>0.86</td>\n",
       "      <td>5</td>\n",
       "      <td>262</td>\n",
       "      <td>6</td>\n",
       "      <td>0</td>\n",
       "      <td>1</td>\n",
       "      <td>0</td>\n",
       "      <td>sales</td>\n",
       "      <td>medium</td>\n",
       "    </tr>\n",
       "    <tr>\n",
       "      <th>2</th>\n",
       "      <td>0.11</td>\n",
       "      <td>0.88</td>\n",
       "      <td>7</td>\n",
       "      <td>272</td>\n",
       "      <td>4</td>\n",
       "      <td>0</td>\n",
       "      <td>1</td>\n",
       "      <td>0</td>\n",
       "      <td>sales</td>\n",
       "      <td>medium</td>\n",
       "    </tr>\n",
       "    <tr>\n",
       "      <th>3</th>\n",
       "      <td>0.72</td>\n",
       "      <td>0.87</td>\n",
       "      <td>5</td>\n",
       "      <td>223</td>\n",
       "      <td>5</td>\n",
       "      <td>0</td>\n",
       "      <td>1</td>\n",
       "      <td>0</td>\n",
       "      <td>sales</td>\n",
       "      <td>low</td>\n",
       "    </tr>\n",
       "    <tr>\n",
       "      <th>4</th>\n",
       "      <td>0.37</td>\n",
       "      <td>0.52</td>\n",
       "      <td>2</td>\n",
       "      <td>159</td>\n",
       "      <td>3</td>\n",
       "      <td>0</td>\n",
       "      <td>1</td>\n",
       "      <td>0</td>\n",
       "      <td>sales</td>\n",
       "      <td>low</td>\n",
       "    </tr>\n",
       "    <tr>\n",
       "      <th>...</th>\n",
       "      <td>...</td>\n",
       "      <td>...</td>\n",
       "      <td>...</td>\n",
       "      <td>...</td>\n",
       "      <td>...</td>\n",
       "      <td>...</td>\n",
       "      <td>...</td>\n",
       "      <td>...</td>\n",
       "      <td>...</td>\n",
       "      <td>...</td>\n",
       "    </tr>\n",
       "    <tr>\n",
       "      <th>14994</th>\n",
       "      <td>0.40</td>\n",
       "      <td>0.57</td>\n",
       "      <td>2</td>\n",
       "      <td>151</td>\n",
       "      <td>3</td>\n",
       "      <td>0</td>\n",
       "      <td>1</td>\n",
       "      <td>0</td>\n",
       "      <td>support</td>\n",
       "      <td>low</td>\n",
       "    </tr>\n",
       "    <tr>\n",
       "      <th>14995</th>\n",
       "      <td>0.37</td>\n",
       "      <td>0.48</td>\n",
       "      <td>2</td>\n",
       "      <td>160</td>\n",
       "      <td>3</td>\n",
       "      <td>0</td>\n",
       "      <td>1</td>\n",
       "      <td>0</td>\n",
       "      <td>support</td>\n",
       "      <td>low</td>\n",
       "    </tr>\n",
       "    <tr>\n",
       "      <th>14996</th>\n",
       "      <td>0.37</td>\n",
       "      <td>0.53</td>\n",
       "      <td>2</td>\n",
       "      <td>143</td>\n",
       "      <td>3</td>\n",
       "      <td>0</td>\n",
       "      <td>1</td>\n",
       "      <td>0</td>\n",
       "      <td>support</td>\n",
       "      <td>low</td>\n",
       "    </tr>\n",
       "    <tr>\n",
       "      <th>14997</th>\n",
       "      <td>0.11</td>\n",
       "      <td>0.96</td>\n",
       "      <td>6</td>\n",
       "      <td>280</td>\n",
       "      <td>4</td>\n",
       "      <td>0</td>\n",
       "      <td>1</td>\n",
       "      <td>0</td>\n",
       "      <td>support</td>\n",
       "      <td>low</td>\n",
       "    </tr>\n",
       "    <tr>\n",
       "      <th>14998</th>\n",
       "      <td>0.37</td>\n",
       "      <td>0.52</td>\n",
       "      <td>2</td>\n",
       "      <td>158</td>\n",
       "      <td>3</td>\n",
       "      <td>0</td>\n",
       "      <td>1</td>\n",
       "      <td>0</td>\n",
       "      <td>support</td>\n",
       "      <td>low</td>\n",
       "    </tr>\n",
       "  </tbody>\n",
       "</table>\n",
       "<p>14999 rows × 10 columns</p>\n",
       "</div>"
      ],
      "text/plain": [
       "       satisfaction_level  last_evaluation  number_project  \\\n",
       "0                    0.38             0.53               2   \n",
       "1                    0.80             0.86               5   \n",
       "2                    0.11             0.88               7   \n",
       "3                    0.72             0.87               5   \n",
       "4                    0.37             0.52               2   \n",
       "...                   ...              ...             ...   \n",
       "14994                0.40             0.57               2   \n",
       "14995                0.37             0.48               2   \n",
       "14996                0.37             0.53               2   \n",
       "14997                0.11             0.96               6   \n",
       "14998                0.37             0.52               2   \n",
       "\n",
       "       average_montly_hours  time_spend_company Work_accident left  \\\n",
       "0                       157                   3             0    1   \n",
       "1                       262                   6             0    1   \n",
       "2                       272                   4             0    1   \n",
       "3                       223                   5             0    1   \n",
       "4                       159                   3             0    1   \n",
       "...                     ...                 ...           ...  ...   \n",
       "14994                   151                   3             0    1   \n",
       "14995                   160                   3             0    1   \n",
       "14996                   143                   3             0    1   \n",
       "14997                   280                   4             0    1   \n",
       "14998                   158                   3             0    1   \n",
       "\n",
       "      promotion_last_5years department  salary  \n",
       "0                         0      sales     low  \n",
       "1                         0      sales  medium  \n",
       "2                         0      sales  medium  \n",
       "3                         0      sales     low  \n",
       "4                         0      sales     low  \n",
       "...                     ...        ...     ...  \n",
       "14994                     0    support     low  \n",
       "14995                     0    support     low  \n",
       "14996                     0    support     low  \n",
       "14997                     0    support     low  \n",
       "14998                     0    support     low  \n",
       "\n",
       "[14999 rows x 10 columns]"
      ]
     },
     "execution_count": 1,
     "metadata": {},
     "output_type": "execute_result"
    }
   ],
   "source": [
    "import lzma\n",
    "import pandas as pd\n",
    "\n",
    "salary_category = pd.CategoricalDtype(categories=['high', 'medium', 'low'], ordered=True)\n",
    "\n",
    "names_with_dtype = [\n",
    "    (\"satisfaction_level\", \"float64\", \"continuous\"),\n",
    "    (\"last_evaluation\", \"float64\", \"continuous\"),\n",
    "    (\"number_project\", \"int64\", \"discrete\"),\n",
    "    (\"average_montly_hours\", \"int64\", \"continuous\"),\n",
    "    (\"time_spend_company\", \"int64\", \"discrete\"),\n",
    "    (\"Work_accident\", \"category\", \"categorical\"),\n",
    "    (\"left\", \"category\", \"categorical\"),\n",
    "    (\"promotion_last_5years\", \"category\", \"categorical\"),\n",
    "    (\"department\", \"category\", \"categorical\"),\n",
    "    (\"salary\", salary_category, \"categorical\"),\n",
    "]\n",
    "\n",
    "dtype = {name: dtype for name, dtype, _ in names_with_dtype}\n",
    "\n",
    "discrete_features = [name for name, _, dtype in names_with_dtype if dtype == 'discrete']\n",
    "continuous_features = [name for name, _, dtype in names_with_dtype if dtype == 'continuous']\n",
    "categorical_features = [name for name, _, dtype in names_with_dtype if dtype == 'categorical']\n",
    "\n",
    "assert len(names_with_dtype) == len(discrete_features + continuous_features + categorical_features)\n",
    "\n",
    "file = lzma.open('data/HR.csv.xz', 'r')\n",
    "hr = pd.read_csv(file, dtype=dtype)\n",
    "hr"
   ]
  },
  {
   "cell_type": "markdown",
   "id": "e765bc2d",
   "metadata": {},
   "source": [
    "<a id='task2'></a>\n",
    "### Задание 2\n",
    "Рассчитайте основные статистики для переменных(среднее,медиана,мода,мин/макс,сред.отклонение)."
   ]
  },
  {
   "cell_type": "code",
   "execution_count": 2,
   "id": "0881c439",
   "metadata": {},
   "outputs": [
    {
     "data": {
      "text/html": [
       "<div>\n",
       "<style scoped>\n",
       "    .dataframe tbody tr th:only-of-type {\n",
       "        vertical-align: middle;\n",
       "    }\n",
       "\n",
       "    .dataframe tbody tr th {\n",
       "        vertical-align: top;\n",
       "    }\n",
       "\n",
       "    .dataframe thead th {\n",
       "        text-align: right;\n",
       "    }\n",
       "</style>\n",
       "<table border=\"1\" class=\"dataframe\">\n",
       "  <thead>\n",
       "    <tr style=\"text-align: right;\">\n",
       "      <th></th>\n",
       "      <th>satisfaction_level</th>\n",
       "      <th>last_evaluation</th>\n",
       "      <th>average_montly_hours</th>\n",
       "      <th>number_project</th>\n",
       "      <th>time_spend_company</th>\n",
       "    </tr>\n",
       "  </thead>\n",
       "  <tbody>\n",
       "    <tr>\n",
       "      <th>count</th>\n",
       "      <td>14999.000000</td>\n",
       "      <td>14999.000000</td>\n",
       "      <td>14999.000000</td>\n",
       "      <td>14999.000000</td>\n",
       "      <td>14999.000000</td>\n",
       "    </tr>\n",
       "    <tr>\n",
       "      <th>mean</th>\n",
       "      <td>0.612834</td>\n",
       "      <td>0.716102</td>\n",
       "      <td>201.050337</td>\n",
       "      <td>3.803054</td>\n",
       "      <td>3.498233</td>\n",
       "    </tr>\n",
       "    <tr>\n",
       "      <th>std</th>\n",
       "      <td>0.248631</td>\n",
       "      <td>0.171169</td>\n",
       "      <td>49.943099</td>\n",
       "      <td>1.232592</td>\n",
       "      <td>1.460136</td>\n",
       "    </tr>\n",
       "    <tr>\n",
       "      <th>min</th>\n",
       "      <td>0.090000</td>\n",
       "      <td>0.360000</td>\n",
       "      <td>96.000000</td>\n",
       "      <td>2.000000</td>\n",
       "      <td>2.000000</td>\n",
       "    </tr>\n",
       "    <tr>\n",
       "      <th>25%</th>\n",
       "      <td>0.440000</td>\n",
       "      <td>0.560000</td>\n",
       "      <td>156.000000</td>\n",
       "      <td>3.000000</td>\n",
       "      <td>3.000000</td>\n",
       "    </tr>\n",
       "    <tr>\n",
       "      <th>50%</th>\n",
       "      <td>0.640000</td>\n",
       "      <td>0.720000</td>\n",
       "      <td>200.000000</td>\n",
       "      <td>4.000000</td>\n",
       "      <td>3.000000</td>\n",
       "    </tr>\n",
       "    <tr>\n",
       "      <th>75%</th>\n",
       "      <td>0.820000</td>\n",
       "      <td>0.870000</td>\n",
       "      <td>245.000000</td>\n",
       "      <td>5.000000</td>\n",
       "      <td>4.000000</td>\n",
       "    </tr>\n",
       "    <tr>\n",
       "      <th>max</th>\n",
       "      <td>1.000000</td>\n",
       "      <td>1.000000</td>\n",
       "      <td>310.000000</td>\n",
       "      <td>7.000000</td>\n",
       "      <td>10.000000</td>\n",
       "    </tr>\n",
       "  </tbody>\n",
       "</table>\n",
       "</div>"
      ],
      "text/plain": [
       "       satisfaction_level  last_evaluation  average_montly_hours  \\\n",
       "count        14999.000000     14999.000000          14999.000000   \n",
       "mean             0.612834         0.716102            201.050337   \n",
       "std              0.248631         0.171169             49.943099   \n",
       "min              0.090000         0.360000             96.000000   \n",
       "25%              0.440000         0.560000            156.000000   \n",
       "50%              0.640000         0.720000            200.000000   \n",
       "75%              0.820000         0.870000            245.000000   \n",
       "max              1.000000         1.000000            310.000000   \n",
       "\n",
       "       number_project  time_spend_company  \n",
       "count    14999.000000        14999.000000  \n",
       "mean         3.803054            3.498233  \n",
       "std          1.232592            1.460136  \n",
       "min          2.000000            2.000000  \n",
       "25%          3.000000            3.000000  \n",
       "50%          4.000000            3.000000  \n",
       "75%          5.000000            4.000000  \n",
       "max          7.000000           10.000000  "
      ]
     },
     "execution_count": 2,
     "metadata": {},
     "output_type": "execute_result"
    }
   ],
   "source": [
    "hr[continuous_features + discrete_features].describe()"
   ]
  },
  {
   "cell_type": "code",
   "execution_count": 3,
   "id": "84624c50",
   "metadata": {},
   "outputs": [
    {
     "data": {
      "text/html": [
       "<div>\n",
       "<style scoped>\n",
       "    .dataframe tbody tr th:only-of-type {\n",
       "        vertical-align: middle;\n",
       "    }\n",
       "\n",
       "    .dataframe tbody tr th {\n",
       "        vertical-align: top;\n",
       "    }\n",
       "\n",
       "    .dataframe thead th {\n",
       "        text-align: right;\n",
       "    }\n",
       "</style>\n",
       "<table border=\"1\" class=\"dataframe\">\n",
       "  <thead>\n",
       "    <tr style=\"text-align: right;\">\n",
       "      <th></th>\n",
       "      <th>Work_accident</th>\n",
       "      <th>left</th>\n",
       "      <th>promotion_last_5years</th>\n",
       "      <th>department</th>\n",
       "      <th>salary</th>\n",
       "      <th>number_project</th>\n",
       "      <th>time_spend_company</th>\n",
       "    </tr>\n",
       "  </thead>\n",
       "  <tbody>\n",
       "    <tr>\n",
       "      <th>0</th>\n",
       "      <td>0</td>\n",
       "      <td>0</td>\n",
       "      <td>0</td>\n",
       "      <td>sales</td>\n",
       "      <td>low</td>\n",
       "      <td>4</td>\n",
       "      <td>3</td>\n",
       "    </tr>\n",
       "  </tbody>\n",
       "</table>\n",
       "</div>"
      ],
      "text/plain": [
       "  Work_accident left promotion_last_5years department salary  number_project  \\\n",
       "0             0    0                     0      sales    low               4   \n",
       "\n",
       "   time_spend_company  \n",
       "0                   3  "
      ]
     },
     "execution_count": 3,
     "metadata": {},
     "output_type": "execute_result"
    }
   ],
   "source": [
    "hr[categorical_features + discrete_features].mode()"
   ]
  },
  {
   "cell_type": "markdown",
   "id": "8b11116d",
   "metadata": {},
   "source": [
    "<a id='task3'></a>\n",
    "### Задание 3\n",
    "Рассчитайте и визуализировать корреляционную матрицу для количественных переменных.  \n",
    "Определите две самые скоррелированные и две наименее скоррелированные переменные."
   ]
  },
  {
   "cell_type": "code",
   "execution_count": 4,
   "id": "53a242a6",
   "metadata": {},
   "outputs": [
    {
     "data": {
      "text/html": [
       "<div>\n",
       "<style scoped>\n",
       "    .dataframe tbody tr th:only-of-type {\n",
       "        vertical-align: middle;\n",
       "    }\n",
       "\n",
       "    .dataframe tbody tr th {\n",
       "        vertical-align: top;\n",
       "    }\n",
       "\n",
       "    .dataframe thead th {\n",
       "        text-align: right;\n",
       "    }\n",
       "</style>\n",
       "<table border=\"1\" class=\"dataframe\">\n",
       "  <thead>\n",
       "    <tr style=\"text-align: right;\">\n",
       "      <th></th>\n",
       "      <th>satisfaction_level</th>\n",
       "      <th>last_evaluation</th>\n",
       "      <th>average_montly_hours</th>\n",
       "      <th>number_project</th>\n",
       "      <th>time_spend_company</th>\n",
       "    </tr>\n",
       "  </thead>\n",
       "  <tbody>\n",
       "    <tr>\n",
       "      <th>satisfaction_level</th>\n",
       "      <td>1.000000</td>\n",
       "      <td>0.105021</td>\n",
       "      <td>-0.020048</td>\n",
       "      <td>-0.142970</td>\n",
       "      <td>-0.100866</td>\n",
       "    </tr>\n",
       "    <tr>\n",
       "      <th>last_evaluation</th>\n",
       "      <td>0.105021</td>\n",
       "      <td>1.000000</td>\n",
       "      <td>0.339742</td>\n",
       "      <td>0.349333</td>\n",
       "      <td>0.131591</td>\n",
       "    </tr>\n",
       "    <tr>\n",
       "      <th>average_montly_hours</th>\n",
       "      <td>-0.020048</td>\n",
       "      <td>0.339742</td>\n",
       "      <td>1.000000</td>\n",
       "      <td>0.417211</td>\n",
       "      <td>0.127755</td>\n",
       "    </tr>\n",
       "    <tr>\n",
       "      <th>number_project</th>\n",
       "      <td>-0.142970</td>\n",
       "      <td>0.349333</td>\n",
       "      <td>0.417211</td>\n",
       "      <td>1.000000</td>\n",
       "      <td>0.196786</td>\n",
       "    </tr>\n",
       "    <tr>\n",
       "      <th>time_spend_company</th>\n",
       "      <td>-0.100866</td>\n",
       "      <td>0.131591</td>\n",
       "      <td>0.127755</td>\n",
       "      <td>0.196786</td>\n",
       "      <td>1.000000</td>\n",
       "    </tr>\n",
       "  </tbody>\n",
       "</table>\n",
       "</div>"
      ],
      "text/plain": [
       "                      satisfaction_level  last_evaluation  \\\n",
       "satisfaction_level              1.000000         0.105021   \n",
       "last_evaluation                 0.105021         1.000000   \n",
       "average_montly_hours           -0.020048         0.339742   \n",
       "number_project                 -0.142970         0.349333   \n",
       "time_spend_company             -0.100866         0.131591   \n",
       "\n",
       "                      average_montly_hours  number_project  time_spend_company  \n",
       "satisfaction_level               -0.020048       -0.142970           -0.100866  \n",
       "last_evaluation                   0.339742        0.349333            0.131591  \n",
       "average_montly_hours              1.000000        0.417211            0.127755  \n",
       "number_project                    0.417211        1.000000            0.196786  \n",
       "time_spend_company                0.127755        0.196786            1.000000  "
      ]
     },
     "execution_count": 4,
     "metadata": {},
     "output_type": "execute_result"
    }
   ],
   "source": [
    "corr = hr[continuous_features + discrete_features].corr()\n",
    "corr"
   ]
  },
  {
   "cell_type": "code",
   "execution_count": 5,
   "id": "0e410eb9",
   "metadata": {},
   "outputs": [
    {
     "data": {
      "image/png": "[encoded data removed]",
      "text/plain": [
       "<Figure size 1080x720 with 2 Axes>"
      ]
     },
     "metadata": {
      "needs_background": "light"
     },
     "output_type": "display_data"
    }
   ],
   "source": [
    "import seaborn as sns\n",
    "from pylab import rcParams\n",
    "\n",
    "rcParams['figure.figsize'] = 15,10\n",
    "\n",
    "ax = sns.heatmap(corr, vmin=-1, vmax=1, annot=True, cmap='BrBG')\n",
    "ax.set_title('Correlation Heatmap', fontdict={'fontsize':18}, pad=12);"
   ]
  },
  {
   "cell_type": "markdown",
   "id": "0854e0be",
   "metadata": {},
   "source": [
    " Две самые скоррелированные переменные:\n",
    " 1. `number_project` и `average_montly_hours`. Коэффициент корреляции: `0.42`\n",
    " 2. `number_project` и `last_evaluation`. Коэффициент корреляции: `0.35`\n",
    " \n",
    " \n",
    " Две наименее скоррелированные переменные:\n",
    " 1. `average_monthly_hours` и `satisfaction_level`. Коэффициент корреляции: `-0.02`\n",
    " 2. `time_spend_company` и `satisfaction_level`. Коэффициент корреляции: `-0.1`"
   ]
  },
  {
   "cell_type": "markdown",
   "id": "ae594788",
   "metadata": {},
   "source": [
    "<a id='task4'></a>\n",
    "### Задание 4\n",
    "Рассчитайте сколько сотрудников работает в каждом департаменте."
   ]
  },
  {
   "cell_type": "code",
   "execution_count": 6,
   "id": "d7ef71f6",
   "metadata": {},
   "outputs": [
    {
     "data": {
      "text/plain": [
       "sales          4140\n",
       "technical      2720\n",
       "support        2229\n",
       "IT             1227\n",
       "product_mng     902\n",
       "marketing       858\n",
       "RandD           787\n",
       "accounting      767\n",
       "hr              739\n",
       "management      630\n",
       "Name: department, dtype: int64"
      ]
     },
     "execution_count": 6,
     "metadata": {},
     "output_type": "execute_result"
    }
   ],
   "source": [
    "hr['department'].value_counts()"
   ]
  },
  {
   "cell_type": "markdown",
   "id": "b697b5b0",
   "metadata": {},
   "source": [
    "<a id='task5'></a>\n",
    "### Задание 5\n",
    "Показать распределение сотрудников по зарплатам."
   ]
  },
  {
   "cell_type": "code",
   "execution_count": 7,
   "id": "f4d60af0",
   "metadata": {},
   "outputs": [
    {
     "data": {
      "image/png": "[encoded data removed]",
      "text/plain": [
       "<Figure size 1080x720 with 1 Axes>"
      ]
     },
     "metadata": {
      "needs_background": "light"
     },
     "output_type": "display_data"
    }
   ],
   "source": [
    "ax = sns.countplot(x='salary', data=hr)\n",
    "ax.set_title('Salary Histogram', fontdict={'fontsize':18}, pad=12);"
   ]
  },
  {
   "cell_type": "markdown",
   "id": "326275e9",
   "metadata": {},
   "source": [
    "<a id='task6'></a>\n",
    "### Задание 6\n",
    "Показать распределение сотрудников по зарплатам в каждом департаменте по отдельности"
   ]
  },
  {
   "cell_type": "code",
   "execution_count": 8,
   "id": "be9d203b",
   "metadata": {},
   "outputs": [
    {
     "data": {
      "image/png": "[encoded data removed]",
      "text/plain": [
       "<Figure size 1080x720 with 1 Axes>"
      ]
     },
     "metadata": {
      "needs_background": "light"
     },
     "output_type": "display_data"
    }
   ],
   "source": [
    "ax = sns.countplot(x='department', hue='salary', data=hr)\n",
    "ax.set_title('Salary per Department Histogram', fontdict={'fontsize':18}, pad=12);"
   ]
  },
  {
   "cell_type": "markdown",
   "id": "8d5d794e",
   "metadata": {},
   "source": [
    "<a id='task7'></a>\n",
    "### Задание 7\n",
    "Проверить гипотезу, что сотрудники с высоким окладом проводят на работе больше времени, чем сотрудники с низким окладом"
   ]
  },
  {
   "cell_type": "markdown",
   "id": "8d0eca18",
   "metadata": {},
   "source": [
    "Для начала проверим отличаются ли наши выборки\n",
    "\n",
    "Гипотеза:\n",
    "* H0: сотрудники с высокой и низкой зарплатой проводят одинаковое количество времени на работе\n",
    "* H1: сотрудники с высокой и низкой запрлатой проводят разное количество времени на работе\n",
    "\n",
    "Уровень значимости примем за `0.05`"
   ]
  },
  {
   "cell_type": "code",
   "execution_count": 19,
   "id": "cca9d8e4",
   "metadata": {},
   "outputs": [],
   "source": [
    "# подготови данные\n",
    "high_salary = hr['salary'] == 'high'\n",
    "low_salary = hr['salary'] == 'low'\n",
    "\n",
    "high_salary_hours = hr[high_salary]['average_montly_hours'].values\n",
    "low_salary_hours = hr[low_salary]['average_montly_hours'].values"
   ]
  },
  {
   "cell_type": "code",
   "execution_count": 43,
   "id": "7075e5bf",
   "metadata": {},
   "outputs": [
    {
     "data": {
      "image/png": "[encoded data removed]",
      "text/plain": [
       "<Figure size 1080x720 with 1 Axes>"
      ]
     },
     "metadata": {
      "needs_background": "light"
     },
     "output_type": "display_data"
    }
   ],
   "source": [
    "sns.histplot({'high': high_salary_hours, 'low': low_salary_hours});"
   ]
  },
  {
   "cell_type": "code",
   "execution_count": 63,
   "id": "180bb89f",
   "metadata": {},
   "outputs": [
    {
     "name": "stdout",
     "output_type": "stream",
     "text": [
      "4507096.5 0.4120665360429347\n",
      "Не отвергаем H0. Сотрудники с высокой и низкой зарплатой проводят одинаковое количество времени на работе\n"
     ]
    }
   ],
   "source": [
    "# т.к. распределение не является гауссовым, будем использовать критерий Манна-Уитни\n",
    "from scipy.stats import mannwhitneyu\n",
    "\n",
    "stats, p = mannwhitneyu(high_salary_hours, low_salary_hours) # U-тест Манна-Уитни\n",
    "print(stats, p)\n",
    "if p < 0.05:\n",
    "    print(\"Отвергаем H0. Сотрудники с высокой и низкой зарплатой проводят разное количество времени на работе\")\n",
    "else:\n",
    "    print(\"Не отвергаем H0. Сотрудники с высокой и низкой зарплатой проводят одинаковое количество времени на работе\")"
   ]
  },
  {
   "cell_type": "markdown",
   "id": "bb0fe0ba",
   "metadata": {},
   "source": [
    "<a id='task8'></a>\n",
    "### Задание 8\n",
    "Рассчитать следующие показатели среди уволившихся и неуволившихся сотрудников (по отдельности):\n",
    "* Доля сотрудников с повышением за последние 5 лет\n",
    "* Средняя степень удовлетворенности\n",
    "* Среднее количество проектов"
   ]
  },
  {
   "cell_type": "markdown",
   "id": "5abdfd76",
   "metadata": {},
   "source": [
    "<a id='task9'></a>\n",
    "### Задание 9\n",
    "Разделить данные на тестовую и обучающую выборки.  \n",
    "Построить модель LDA, предсказывающую уволился лисотрудник на основе имеющихся факторов (кроме `department` и `salary`).  \n",
    "Оценить качество модели на тестовой выборки"
   ]
  },
  {
   "cell_type": "markdown",
   "id": "3a761e6c",
   "metadata": {},
   "source": [
    "<a id='task10'></a>\n",
    "### Задание 10\n",
    "Загрузить jupyter notebook с решение на github и прислать ссылку"
   ]
  }
 ],
 "metadata": {
  "kernelspec": {
   "display_name": "Python 3",
   "language": "python",
   "name": "python3"
  },
  "language_info": {
   "codemirror_mode": {
    "name": "ipython",
    "version": 3
   },
   "file_extension": ".py",
   "mimetype": "text/x-python",
   "name": "python",
   "nbconvert_exporter": "python",
   "pygments_lexer": "ipython3",
   "version": "3.8.10"
  }
 },
 "nbformat": 4,
 "nbformat_minor": 5
}
